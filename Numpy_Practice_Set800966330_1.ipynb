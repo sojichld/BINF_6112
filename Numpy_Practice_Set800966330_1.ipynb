{
  "cells": [
    {
      "cell_type": "markdown",
      "metadata": {
        "id": "VY7mbpqY9ZQO"
      },
      "source": [
        "Name: Soji Ademiluyi  \n",
        "Email: aademilu@uncc.edu"
      ]
    },
    {
      "cell_type": "markdown",
      "metadata": {
        "id": "WbtFjPZi9ZQR"
      },
      "source": [
        "Subtract the 1D Array *arr2* from the 2D array *arr1*, such that each item of *arr2* subtracts from respective row of *arr1*\n",
        "\n",
        "Ex\n",
        "\n",
        "arr1 = `[[x1, x2 , x3], [y1, y2, y3], [z1,z2,z3]]`\n",
        "\n",
        "arr2 = `[x,y,z]`\n",
        "\n",
        "Result `[ [ x1-x, x2-x, x3-x],` etc"
      ]
    },
    {
      "cell_type": "code",
      "execution_count": 8,
      "metadata": {
        "id": "GPce0Skc9ZQR"
      },
      "outputs": [],
      "source": [
        "import numpy as np"
      ]
    },
    {
      "cell_type": "code",
      "execution_count": 9,
      "metadata": {
        "id": "v6iFbMs_9ZQS",
        "outputId": "dd826880-d5ac-4031-a30a-c5f20abcc5fe"
      },
      "outputs": [
        {
          "data": {
            "text/plain": [
              "array([[1, 4, 7],\n",
              "       [2, 5, 8],\n",
              "       [3, 6, 9]])"
            ]
          },
          "execution_count": 9,
          "metadata": {},
          "output_type": "execute_result"
        }
      ],
      "source": [
        "arr1 = np.array(range(1,10))\n",
        "arr1 = arr1.reshape(3,3)\n",
        "arr2 = np.array(range(1,4))\n",
        "arr1.T"
      ]
    },
    {
      "cell_type": "code",
      "execution_count": 10,
      "metadata": {
        "id": "hQ08Mauf9ZQT",
        "outputId": "d411f050-c437-4599-844c-53c054462e6c"
      },
      "outputs": [
        {
          "data": {
            "text/plain": [
              "array([[0, 1, 2],\n",
              "       [2, 3, 4],\n",
              "       [4, 5, 6]])"
            ]
          },
          "execution_count": 10,
          "metadata": {},
          "output_type": "execute_result"
        }
      ],
      "source": [
        "arrx = arr1.T - arr2\n",
        "arrx = arrx.T\n",
        "arrx"
      ]
    },
    {
      "cell_type": "markdown",
      "metadata": {
        "id": "dmWlEIZt9ZQT"
      },
      "source": [
        "Given a 1D Array, find the local maxima (numbers surrounded by 2 smaller numbers)"
      ]
    },
    {
      "cell_type": "code",
      "execution_count": 11,
      "metadata": {
        "id": "wx_eXDjp9ZQT",
        "outputId": "2bee5250-dfd9-497d-aaa3-ac1e113f8778"
      },
      "outputs": [
        {
          "data": {
            "text/plain": [
              "array([ 0,  1,  2,  3,  4,  5, 10,  7,  8,  9, 10, 11, 12, 13, 20, 15, 16,\n",
              "       50, 18, 19])"
            ]
          },
          "execution_count": 11,
          "metadata": {},
          "output_type": "execute_result"
        }
      ],
      "source": [
        "arr3 = np.arange(20)\n",
        "arr3[6], arr3[14], arr3[17] = 10, 20, 50\n",
        "arr3"
      ]
    },
    {
      "cell_type": "code",
      "execution_count": 12,
      "metadata": {
        "id": "AM_YOy5F9ZQU",
        "outputId": "dd44c073-7d00-42a4-ab55-c5f55f3ba8fd"
      },
      "outputs": [
        {
          "name": "stdout",
          "output_type": "stream",
          "text": [
            "10\n",
            "20\n",
            "50\n"
          ]
        }
      ],
      "source": [
        "for i in range(len(arr3)-1):\n",
        "    if arr3[i] > arr3[i-1] and arr3[i] > arr3[i+1]:\n",
        "        print(arr3[i])\n",
        "        continue"
      ]
    },
    {
      "cell_type": "markdown",
      "metadata": {
        "id": "8hDoVxhP9ZQU"
      },
      "source": [
        "Given two n x m Arrays, compute the average of elements in matching subarrays\n",
        "\n",
        "Ex\n",
        "\n",
        "arr1      \n",
        "`[[1,1],[2,2],[3,3]]`\n",
        "\n",
        "arr2      \n",
        "`[[1,1],[2,2],[3,3]]`\n",
        "\n",
        "result:\n",
        "`[1,2,3]`\n",
        "\n"
      ]
    },
    {
      "cell_type": "code",
      "execution_count": 13,
      "metadata": {
        "id": "PnheuZeR9ZQV",
        "outputId": "6cfe0762-986d-4fd5-f9e3-a988e10ec57e"
      },
      "outputs": [
        {
          "name": "stdout",
          "output_type": "stream",
          "text": [
            "[[ 0  1  2  3  4]\n",
            " [ 5  6  7  8  9]\n",
            " [10 11 12 13 14]\n",
            " [15 16 17 18 19]\n",
            " [20 21 22 23 24]\n",
            " [25 26 27 28 29]] [[ 0  1  2  3  4]\n",
            " [ 5  6  7  8  9]\n",
            " [10 11 12 13 14]\n",
            " [15 16 17 18 19]\n",
            " [20 21 22 23 24]\n",
            " [25 26 27 28 29]]\n"
          ]
        }
      ],
      "source": [
        "arr4 = np.arange(30).reshape(6,5)\n",
        "arr5 = np.arange(30).reshape(6,5)\n",
        "print(arr5, arr4)"
      ]
    },
    {
      "cell_type": "code",
      "execution_count": 14,
      "metadata": {
        "id": "q-qPKL449ZQV",
        "outputId": "d1be9946-4438-4915-cca1-b5fc0ae4a23c"
      },
      "outputs": [
        {
          "data": {
            "text/plain": [
              "[2.0, 7.0, 12.0, 17.0, 22.0, 27.0]"
            ]
          },
          "execution_count": 14,
          "metadata": {},
          "output_type": "execute_result"
        }
      ],
      "source": [
        "arr6 = arr5 + arr4\n",
        "arrAvg = []\n",
        "for i in arr6:\n",
        "    arrAvg.append(i.sum()/(len(i)*2))\n",
        "arrAvg\n",
        "    "
      ]
    },
    {
      "cell_type": "code",
      "execution_count": null,
      "metadata": {
        "id": "aMr4NN1l9ZQW"
      },
      "outputs": [],
      "source": []
    },
    {
      "cell_type": "code",
      "execution_count": null,
      "metadata": {},
      "outputs": [],
      "source": []
    }
  ],
  "metadata": {
    "colab": {
      "name": "Numpy Practice Set800966330-1.ipynb",
      "provenance": []
    },
    "kernelspec": {
      "display_name": "Python 3 (ipykernel)",
      "language": "python",
      "name": "python3"
    },
    "language_info": {
      "codemirror_mode": {
        "name": "ipython",
        "version": 3
      },
      "file_extension": ".py",
      "mimetype": "text/x-python",
      "name": "python",
      "nbconvert_exporter": "python",
      "pygments_lexer": "ipython3",
      "version": "3.8.8"
    }
  },
  "nbformat": 4,
  "nbformat_minor": 0
}
