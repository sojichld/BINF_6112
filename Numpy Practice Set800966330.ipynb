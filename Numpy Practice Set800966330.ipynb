{
 "cells": [
  {
   "cell_type": "markdown",
   "metadata": {},
   "source": [
    "Name: Soji Ademiluyi  \n",
    "Email: aademilu@uncc.edu"
   ]
  },
  {
   "cell_type": "markdown",
   "metadata": {},
   "source": [
    "Subtract the 1D Array *arr2* from the 2D array *arr1*, such that each item of *arr2* subtracts from respective row of *arr1*\n",
    "\n",
    "Ex\n",
    "\n",
    "arr1 = `[[x1, x2 , x3], [y1, y2, y3], [z1,z2,z3]]`\n",
    "\n",
    "arr2 = `[x,y,z]`\n",
    "\n",
    "Result `[ [ x1-x, x2-x, x3-x],` etc"
   ]
  },
  {
   "cell_type": "code",
   "execution_count": 2,
   "metadata": {},
   "outputs": [],
   "source": [
    "import numpy as np"
   ]
  },
  {
   "cell_type": "code",
   "execution_count": 6,
   "metadata": {},
   "outputs": [
    {
     "data": {
      "text/plain": [
       "array([[1, 4, 7],\n",
       "       [2, 5, 8],\n",
       "       [3, 6, 9]])"
      ]
     },
     "execution_count": 6,
     "metadata": {},
     "output_type": "execute_result"
    }
   ],
   "source": [
    "arr1 = np.array(range(1,10))\n",
    "arr1 = arr1.reshape(3,3)\n",
    "arr2 = np.array(range(1,4))\n",
    "arr1.T"
   ]
  },
  {
   "cell_type": "code",
   "execution_count": 15,
   "metadata": {},
   "outputs": [
    {
     "data": {
      "text/plain": [
       "array([[0, 1, 2],\n",
       "       [2, 3, 4],\n",
       "       [4, 5, 6]])"
      ]
     },
     "execution_count": 15,
     "metadata": {},
     "output_type": "execute_result"
    }
   ],
   "source": [
    "arrx = arr1.T - arr2\n",
    "arrx = arrx.T\n",
    "arrx"
   ]
  },
  {
   "cell_type": "markdown",
   "metadata": {},
   "source": [
    "Given a 1D Array, find the local maxima (numbers surrounded by 2 smaller numbers)"
   ]
  },
  {
   "cell_type": "code",
   "execution_count": 13,
   "metadata": {},
   "outputs": [
    {
     "data": {
      "text/plain": [
       "array([ 0,  1,  2,  3,  4,  5, 10,  7,  8,  9, 10, 11, 12, 13, 20, 15, 16,\n",
       "       50, 18, 19])"
      ]
     },
     "execution_count": 13,
     "metadata": {},
     "output_type": "execute_result"
    }
   ],
   "source": [
    "arr3 = np.arange(20)\n",
    "arr3[6], arr3[14], arr3[17] = 10, 20, 50\n",
    "arr3"
   ]
  },
  {
   "cell_type": "code",
   "execution_count": 9,
   "metadata": {},
   "outputs": [
    {
     "name": "stdout",
     "output_type": "stream",
     "text": [
      "10\n",
      "20\n",
      "50\n"
     ]
    }
   ],
   "source": [
    "for i in range(len(arr3)-1):\n",
    "    if arr3[i] > arr3[i-1] and arr3[i] > arr3[i+1]:\n",
    "        print(arr3[i])\n",
    "        continue"
   ]
  },
  {
   "cell_type": "markdown",
   "metadata": {},
   "source": [
    "Given two n x m Arrays, compute the average of elements in matching subarrays\n",
    "\n",
    "Ex\n",
    "\n",
    "arr1      \n",
    "`[[1,1],[2,2],[3,3]]`\n",
    "\n",
    "arr2      \n",
    "`[[1,1],[2,2],[3,3]]`\n",
    "\n",
    "result:\n",
    "`[1,2,3]`\n",
    "\n"
   ]
  },
  {
   "cell_type": "code",
   "execution_count": 89,
   "metadata": {},
   "outputs": [
    {
     "name": "stdout",
     "output_type": "stream",
     "text": [
      "[[0 1]\n",
      " [2 3]\n",
      " [4 5]] [[0 1]\n",
      " [2 3]\n",
      " [4 5]]\n"
     ]
    }
   ],
   "source": [
    "arr4 = np.arange(6).reshape(3,2)\n",
    "arr5 = np.arange(6).reshape(3,2)\n",
    "print(arr5, arr4)"
   ]
  },
  {
   "cell_type": "code",
   "execution_count": 88,
   "metadata": {},
   "outputs": [
    {
     "data": {
      "text/plain": [
       "[1.0, 5.0, 9.0]"
      ]
     },
     "execution_count": 88,
     "metadata": {},
     "output_type": "execute_result"
    }
   ],
   "source": [
    "arr6 = arr5 + arr4\n",
    "arrAvg = []\n",
    "for i in arr6:\n",
    "    arrAvg.append(i.sum()/2)\n",
    "arrAvg\n",
    "    "
   ]
  }
 ],
 "metadata": {
  "kernelspec": {
   "display_name": "Python 3",
   "language": "python",
   "name": "python3"
  },
  "language_info": {
   "codemirror_mode": {
    "name": "ipython",
    "version": 3
   },
   "file_extension": ".py",
   "mimetype": "text/x-python",
   "name": "python",
   "nbconvert_exporter": "python",
   "pygments_lexer": "ipython3",
   "version": "3.8.8"
  }
 },
 "nbformat": 4,
 "nbformat_minor": 4
}
