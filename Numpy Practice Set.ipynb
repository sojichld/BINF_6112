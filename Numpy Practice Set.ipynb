{
 "cells": [
  {
   "cell_type": "markdown",
   "metadata": {},
   "source": [
    "Subtract the 1D Array *arr2* from the 2D array *arr1*, such that each item of *arr2* subtracts from respective row of *arr1*\n",
    "\n",
    "Ex\n",
    "\n",
    "arr1 = `[[x1, x2 , x3], [y1, y2, y3], [z1,z2,z3]]`\n",
    "\n",
    "arr2 = `[x,y,z]`\n",
    "\n",
    "Result `[ [ x1-x, x2-x, x3-x],` etc"
   ]
  },
  {
   "cell_type": "code",
   "execution_count": null,
   "metadata": {},
   "outputs": [],
   "source": [
    "arr1 = range(1,10)"
   ]
  },
  {
   "cell_type": "markdown",
   "metadata": {},
   "source": [
    "Given a 1D Array, find the local maxima (numbers surrounded by 2 smaller numbers)"
   ]
  },
  {
   "cell_type": "code",
   "execution_count": null,
   "metadata": {},
   "outputs": [],
   "source": []
  },
  {
   "cell_type": "markdown",
   "metadata": {},
   "source": [
    "Given two n x m Arrays, compute the average of elements in matching subarrays\n",
    "\n",
    "Ex\n",
    "\n",
    "arr1      \n",
    "`[[1,1],[2,2],[3,3]]`\n",
    "\n",
    "arr2      \n",
    "`[[1,1],[2,2],[3,3]]`\n",
    "\n",
    "result:\n",
    "`[1,2,3]`\n",
    "\n"
   ]
  },
  {
   "cell_type": "code",
   "execution_count": null,
   "metadata": {},
   "outputs": [],
   "source": []
  }
 ],
 "metadata": {
  "kernelspec": {
   "display_name": "Python 3",
   "language": "python",
   "name": "python3"
  },
  "language_info": {
   "codemirror_mode": {
    "name": "ipython",
    "version": 3
   },
   "file_extension": ".py",
   "mimetype": "text/x-python",
   "name": "python",
   "nbconvert_exporter": "python",
   "pygments_lexer": "ipython3",
   "version": "3.7.6"
  }
 },
 "nbformat": 4,
 "nbformat_minor": 4
}
